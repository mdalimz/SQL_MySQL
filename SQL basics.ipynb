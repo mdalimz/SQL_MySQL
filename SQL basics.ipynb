{
 "cells": [
  {
   "cell_type": "markdown",
   "id": "28aa4937",
   "metadata": {},
   "source": [
    "# SELECT"
   ]
  },
  {
   "cell_type": "raw",
   "id": "8a430a32",
   "metadata": {},
   "source": [
    "1.The example uses a WHERE clause to show the population of 'France'. \n",
    "Note that strings should be in 'single quotes';\n",
    "-----------------------------------\n",
    "SELECT population FROM world\n",
    "  WHERE name = 'Italy'\n"
   ]
  },
  {
   "cell_type": "raw",
   "id": "0654bcc1",
   "metadata": {},
   "source": [
    "2.Checking a list The word #IN allows us to check if an item is in a list.\n",
    "\n",
    "--------------------------\n",
    "SELECT name, population FROM world\n",
    "\n",
    "  WHERE name IN('Sweden','Norway','Denmark');"
   ]
  },
  {
   "cell_type": "raw",
   "id": "b13fc8e0",
   "metadata": {},
   "source": [
    "3.BETWEEN allows range checking (range specified is inclusive of boundary values)\n",
    "------------------------\n",
    "\n",
    "SELECT name, area FROM world\n",
    "  WHERE area BETWEEN 250000 AND 300000"
   ]
  },
  {
   "cell_type": "markdown",
   "id": "4b0fa031",
   "metadata": {},
   "source": [
    "# SELECT from"
   ]
  },
  {
   "cell_type": "raw",
   "id": "0d49d430",
   "metadata": {},
   "source": [
    "1. Slecting data\n",
    "--------------\n",
    "SELECT name, continent, population FROM world"
   ]
  },
  {
   "cell_type": "raw",
   "id": "62e63421",
   "metadata": {},
   "source": [
    "2.How to use WHERE to filter records within limit\n",
    "\n",
    "--------------\n",
    "SELECT name FROM world\n",
    "WHERE population>200000000;"
   ]
  },
  {
   "cell_type": "raw",
   "id": "2e5a6310",
   "metadata": {},
   "source": [
    "3.Give the name and the per capita GDP for those countries with a population of at least 200 million.\n",
    "--------------------\n",
    "SELECT name, gdp/population\n",
    " FROM world\n",
    "WHERE population>200000000;\n"
   ]
  },
  {
   "cell_type": "raw",
   "id": "b7eb4ffb",
   "metadata": {},
   "source": [
    "4. Show the name and population in millions for the countries of the continent 'South America'\n",
    "-------------------\n",
    "SELECT name, population/1000000 FROM world\n",
    "WHERE continent=\"South America\";"
   ]
  },
  {
   "cell_type": "raw",
   "id": "4b652e14",
   "metadata": {},
   "source": [
    "5. Show the name and population for France, Germany, Italy\n",
    "-------------------------\n",
    "SELECT name, population\n",
    " FROM world\n",
    "WHERE name IN(\"France\", \"Germany\", \"Italy\")"
   ]
  },
  {
   "cell_type": "raw",
   "id": "f7d1f297",
   "metadata": {},
   "source": [
    "6. Show the countries which have a name that includes the word 'United'\n",
    "---------------------   LIKE\"  \" \n",
    "SELECT name\n",
    " FROM world\n",
    "WHERE name LIKE\"United%\""
   ]
  },
  {
   "cell_type": "raw",
   "id": "8278b247",
   "metadata": {},
   "source": [
    "                                           Two ways to be big------------------XOR, OR, AND, NOR, XNO\n",
    "\n",
    "7.Two ways to be big: A country is big if it has an area of more than 3 million sq km or it has a population of more than 250 million.Show the countries that are big by area or big by population. Show name, population and area.\n",
    "\n",
    "------------------------------\n",
    "SELECT name, population, area FROM world\n",
    "WHERE area>3000000 OR population<250000000;\n"
   ]
  },
  {
   "cell_type": "code",
   "execution_count": null,
   "id": "c165cc36",
   "metadata": {},
   "outputs": [],
   "source": [
    "                                              One or the other (but not both)\n"
   ]
  }
 ],
 "metadata": {
  "kernelspec": {
   "display_name": "Python 3 (ipykernel)",
   "language": "python",
   "name": "python3"
  },
  "language_info": {
   "codemirror_mode": {
    "name": "ipython",
    "version": 3
   },
   "file_extension": ".py",
   "mimetype": "text/x-python",
   "name": "python",
   "nbconvert_exporter": "python",
   "pygments_lexer": "ipython3",
   "version": "3.9.13"
  }
 },
 "nbformat": 4,
 "nbformat_minor": 5
}
