{
 "cells": [
  {
   "cell_type": "markdown",
   "id": "44c339cb",
   "metadata": {},
   "source": [
    "Structured Query Language or SQL is a standard database language that is used to create, maintain, destroy, update, and retrieve data from relational databases like MySQL, Oracle, SQL Server, PostgreSQL, etc"
   ]
  },
  {
   "cell_type": "raw",
   "id": "7e0cb7e5",
   "metadata": {},
   "source": [
    "#Creating Database:\n",
    "       1.CREATE DATABASE ---dbname--; SHOW DATABASES;\n",
    "\n",
    "#Creating Tables and adding data:\n",
    "       2. CREATE TABLE --NAME--(\n",
    "        -\n",
    "        -\n",
    "        -\n",
    "        );\n",
    "        #Adding data\n",
    "        INSERT INTO NAME(Columns name) VALUES(each column value);     for first row........\n",
    "        2nd\n",
    "        3rd\n",
    "        \n",
    "        #Initiate\n",
    "        SELECT *FROM NAME;\n",
    "        GO\n",
    "\n",
    "SELECT Clause: Retrieve or fetch data from a database.\n",
    "\n",
    "FROM Clause: From which table in the database do you have to select data?\n",
    "\n",
    "WHERE Clause: It forms the condition based on which data have to be queried.\n",
    "\n",
    "DELETE Statement: For deletion tasks.\n",
    "\n",
    "INSERT INTO: For insertion tasks.\n",
    "\n",
    "AND and OR operator: Selecting data based on AND or operator.\n",
    "\n",
    "Drop and Truncate: It will drop or truncate the collection as per the condition.\n",
    "\n",
    "NOT Operator: It will select the data which is not based on the given condition."
   ]
  },
  {
   "cell_type": "markdown",
   "id": "0f7042d1",
   "metadata": {},
   "source": [
    "Day 7 to Day 12\n",
    "From Day 7 to Day 12, you'll take a step forward and learn some advanced concepts like nested queries, wildcard operators, and other clauses.\n",
    "\n",
    "WITH Clause:  Understand the concept of With clause and use it to name the subquery block.\n",
    "FETCH clause:  The filtered data is retrieved based on certain conditions, such as only the top three rows.\n",
    "Arithmetic operators:  Use arithmetic operators to filter the data conveniently and precisely.\n",
    "Wildcard operators:  To intelligently select exact data such as names that start or end with T.\n",
    "UPDATE statement:   Update specific data entries based on the provided condition.\n",
    "ALTER table:  Add, delete or alter the table based on the specified condition.\n",
    "LIKE clause:  It follows the pattern specified in the search condition.\n",
    "BETWEEN and IN operator:   It selects the data range  between  or  in  the specified condition.\n",
    "CASE statement:  Conditions are searched for and the data is queried according to the respective case.\n",
    "EXISTS:  The nested query is created to filter out the data that exists in another query.\n",
    "    \n",
    "Day 13 to Day 18\n",
    "From day 13 to day 18 you will mainly learn the aggregate functions in SQL.\n",
    "\n",
    "DISTINCT clause:  Only the different data is selected, not repeating data.\n",
    "Count function:  Returns the total number of filtered data.\n",
    "Sum function:  Returns the sum of all queried data.\n",
    "Average function:  Returns the average of all queried data.\n",
    "Minimal function:  It returns the minimum data of all queried data.\n",
    "Maximum function:  It returns the maximum data of all queried data.\n",
    "ORDER BY:  This statement arranges the queried data in ascending or descending order according to your wishes.\n",
    "GROUP BY:  This statement groups all your queried data with the column specified in the condition.\n",
    "ALL and ANY clause:  They are logical operators in SQL and return Boolean values ​​as a result.\n",
    "TOP clause:  Used to retrieve the limited number of rows from a database.\n",
    "    \n",
    "Day 19 to Day 24\n",
    "From day 19 to day 24, you will learn and practice joins in SQL. It is one of the most important concepts of SQL. \n",
    "\n",
    "Union Clause : Just like the mathematical union operator, this clause performs the union of the specified tables.\n",
    "Intersection clause:  It connects the two or more tables where they intersect.\n",
    "Aliases : An alias is assigned to the table which we can refer to later.\n",
    "Cartesian Join and Self Join:  To query some data, sometimes we need to join the table itself with itself.\n",
    "Inner, left, right and full join:  These four types of joins come into play when we need to join one table to another. Check out their syntax and learn how to handle these joins.\n",
    "Division Clause:  Division is usually required when you want to find entities that interact with all entities of a set of different entity types.\n",
    "Using clause:  When multiple columns have the same names but the data types do not match, the NATURAL JOIN clause can be modified with the USING clause to specify the columns to use for an EQUIJOIN.\n",
    "Combining Values:  Combining aggregated and non-aggregated values ​​in SQL using the Joins and  Over  clause.\n",
    "MINUS operator:  It is used as “except”, which means it joins the two overlapping tables and minus one table so that only the overlap and the other table are covered.\n",
    "Joining 3 or more tables:  Although very rarely used, this will help you learn and understand how to join 3 or more tables and then perform the query operations.\n",
    "\n",
    "Day 25 to Day 30\n",
    "Others:  As we have covered almost all the topics, now let us come to some of the different topics, concepts and functions. These are important parts of DBMS and SQL and will surely help you in your college exams and competitive exams like GATE CS. "
   ]
  },
  {
   "cell_type": "code",
   "execution_count": null,
   "id": "13acb7d4",
   "metadata": {},
   "outputs": [],
   "source": []
  }
 ],
 "metadata": {
  "kernelspec": {
   "display_name": "Python 3 (ipykernel)",
   "language": "python",
   "name": "python3"
  },
  "language_info": {
   "codemirror_mode": {
    "name": "ipython",
    "version": 3
   },
   "file_extension": ".py",
   "mimetype": "text/x-python",
   "name": "python",
   "nbconvert_exporter": "python",
   "pygments_lexer": "ipython3",
   "version": "3.9.13"
  }
 },
 "nbformat": 4,
 "nbformat_minor": 5
}
