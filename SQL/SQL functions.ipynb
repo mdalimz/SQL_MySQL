{
 "cells": [
  {
   "cell_type": "code",
   "execution_count": 55,
   "id": "015dfa46",
   "metadata": {},
   "outputs": [],
   "source": [
    "#importing libraries\n",
    "import os\n",
    "import psycopg2 as ps\n",
    "import pandas as pd\n",
    "import sqlite3\n"
   ]
  },
  {
   "cell_type": "code",
   "execution_count": 56,
   "id": "25d05f4c",
   "metadata": {},
   "outputs": [
    {
     "data": {
      "text/html": [
       "<div>\n",
       "<style scoped>\n",
       "    .dataframe tbody tr th:only-of-type {\n",
       "        vertical-align: middle;\n",
       "    }\n",
       "\n",
       "    .dataframe tbody tr th {\n",
       "        vertical-align: top;\n",
       "    }\n",
       "\n",
       "    .dataframe thead th {\n",
       "        text-align: right;\n",
       "    }\n",
       "</style>\n",
       "<table border=\"1\" class=\"dataframe\">\n",
       "  <thead>\n",
       "    <tr style=\"text-align: right;\">\n",
       "      <th></th>\n",
       "      <th>name</th>\n",
       "      <th>continent</th>\n",
       "      <th>area</th>\n",
       "      <th>population</th>\n",
       "      <th>gdp</th>\n",
       "    </tr>\n",
       "  </thead>\n",
       "  <tbody>\n",
       "    <tr>\n",
       "      <th>0</th>\n",
       "      <td>Afghanistan</td>\n",
       "      <td>Asia</td>\n",
       "      <td>223344</td>\n",
       "      <td>2223</td>\n",
       "      <td>66666666</td>\n",
       "    </tr>\n",
       "    <tr>\n",
       "      <th>1</th>\n",
       "      <td>Albania</td>\n",
       "      <td>Europe</td>\n",
       "      <td>3333334</td>\n",
       "      <td>5666</td>\n",
       "      <td>88999999</td>\n",
       "    </tr>\n",
       "    <tr>\n",
       "      <th>2</th>\n",
       "      <td>Algeria</td>\n",
       "      <td>Africa</td>\n",
       "      <td>66666666666</td>\n",
       "      <td>77788</td>\n",
       "      <td>666666</td>\n",
       "    </tr>\n",
       "    <tr>\n",
       "      <th>3</th>\n",
       "      <td>Andorra</td>\n",
       "      <td>Europe</td>\n",
       "      <td>78889999999</td>\n",
       "      <td>8999</td>\n",
       "      <td>44455</td>\n",
       "    </tr>\n",
       "    <tr>\n",
       "      <th>4</th>\n",
       "      <td>Angola</td>\n",
       "      <td>Africa</td>\n",
       "      <td>67968968066</td>\n",
       "      <td>45676</td>\n",
       "      <td>3334444555</td>\n",
       "    </tr>\n",
       "  </tbody>\n",
       "</table>\n",
       "</div>"
      ],
      "text/plain": [
       "          name continent         area  population         gdp\n",
       "0  Afghanistan      Asia       223344        2223    66666666\n",
       "1      Albania    Europe      3333334        5666    88999999\n",
       "2      Algeria    Africa  66666666666       77788      666666\n",
       "3      Andorra    Europe  78889999999        8999       44455\n",
       "4       Angola    Africa  67968968066       45676  3334444555"
      ]
     },
     "execution_count": 56,
     "metadata": {},
     "output_type": "execute_result"
    }
   ],
   "source": [
    "#dataframe for data\n",
    "df=pd.DataFrame({'name': ['Afghanistan','Albania','Algeria','Andorra','Angola'],\n",
    "               'continent': ['Asia','Europe','Africa','Europe','Africa'],\n",
    "               'area': [223344, 3333334, 66666666666, 78889999999, 67968968066],\n",
    "               'population': [2223, 5666, 77788, 8999, 45676],\n",
    "               'gdp': [66666666, 88999999, 666666, 44455,3334444555]})\n",
    "df"
   ]
  },
  {
   "cell_type": "code",
   "execution_count": null,
   "id": "6ac3c5ff",
   "metadata": {},
   "outputs": [],
   "source": []
  },
  {
   "cell_type": "raw",
   "id": "34b8bb05",
   "metadata": {},
   "source": [
    "- Installing libraries\n",
    "ipython-sql`, `sqlalchemy\n",
    "!pip install mysql-connector-python.\n",
    "psycopg2, sqlite3----done"
   ]
  },
  {
   "cell_type": "markdown",
   "id": "d910f04f",
   "metadata": {},
   "source": [
    "col_names=[\"Country\",\"Region\",\"Population\",\"Area (sq. mi.)\",\"Pop. Density (per sq. mi.)\",\"Coastline (coast/area ratio)\",\"Net migration\",\"Infant mortality (per 1000 births)\",\"GDP ($ per capita)\",\"Literacy (%)\",\"Phones (per 1000)\",\"Arable (%)\",\"Crops (%)\",\"Other (%)\",\"Climate\",\"Birthrate\"\n",
    ",\"Deathrate\",\"Agriculture\",\"Industry\",\"Service\"]\n",
    "d= pd.read_csv('D:\\Kagg\\Book1.csv', names= col_names)  #https://medium.com/@sujathamudadla1213/how-to-read-different-types-of-files-in-pandas-f43ceeae6cf0\n",
    "d"
   ]
  },
  {
   "cell_type": "code",
   "execution_count": 57,
   "id": "446b7e34",
   "metadata": {},
   "outputs": [],
   "source": [
    "cn=sqlite3.connect('demo.db')"
   ]
  },
  {
   "cell_type": "code",
   "execution_count": 72,
   "id": "09372b58",
   "metadata": {},
   "outputs": [
    {
     "data": {
      "text/plain": [
       "5"
      ]
     },
     "execution_count": 72,
     "metadata": {},
     "output_type": "execute_result"
    }
   ],
   "source": [
    "df.to_sql('wor',cn)"
   ]
  },
  {
   "cell_type": "code",
   "execution_count": 73,
   "id": "ef03e49b",
   "metadata": {},
   "outputs": [
    {
     "name": "stdout",
     "output_type": "stream",
     "text": [
      "The sql extension is already loaded. To reload it, use:\n",
      "  %reload_ext sql\n"
     ]
    }
   ],
   "source": [
    "%load_ext sql"
   ]
  },
  {
   "cell_type": "code",
   "execution_count": 95,
   "id": "0db2e542",
   "metadata": {},
   "outputs": [
    {
     "name": "stdout",
     "output_type": "stream",
     "text": [
      " * sqlite:///demo.db\n",
      "Done.\n"
     ]
    },
    {
     "data": {
      "text/html": [
       "<table>\n",
       "    <thead>\n",
       "        <tr>\n",
       "            <th>index</th>\n",
       "            <th>name</th>\n",
       "            <th>continent</th>\n",
       "            <th>area</th>\n",
       "            <th>population</th>\n",
       "            <th>gdp</th>\n",
       "        </tr>\n",
       "    </thead>\n",
       "    <tbody>\n",
       "        <tr>\n",
       "            <td>0</td>\n",
       "            <td>Afghanistan</td>\n",
       "            <td>Asia</td>\n",
       "            <td>223344</td>\n",
       "            <td>2223</td>\n",
       "            <td>66666666</td>\n",
       "        </tr>\n",
       "        <tr>\n",
       "            <td>1</td>\n",
       "            <td>Albania</td>\n",
       "            <td>Europe</td>\n",
       "            <td>3333334</td>\n",
       "            <td>5666</td>\n",
       "            <td>88999999</td>\n",
       "        </tr>\n",
       "        <tr>\n",
       "            <td>2</td>\n",
       "            <td>Algeria</td>\n",
       "            <td>Africa</td>\n",
       "            <td>66666666666</td>\n",
       "            <td>77788</td>\n",
       "            <td>666666</td>\n",
       "        </tr>\n",
       "        <tr>\n",
       "            <td>3</td>\n",
       "            <td>Andorra</td>\n",
       "            <td>Europe</td>\n",
       "            <td>78889999999</td>\n",
       "            <td>8999</td>\n",
       "            <td>44455</td>\n",
       "        </tr>\n",
       "        <tr>\n",
       "            <td>4</td>\n",
       "            <td>Angola</td>\n",
       "            <td>Africa</td>\n",
       "            <td>67968968066</td>\n",
       "            <td>45676</td>\n",
       "            <td>3334444555</td>\n",
       "        </tr>\n",
       "    </tbody>\n",
       "</table>"
      ],
      "text/plain": [
       "[(0, 'Afghanistan', 'Asia', 223344, 2223, 66666666),\n",
       " (1, 'Albania', 'Europe', 3333334, 5666, 88999999),\n",
       " (2, 'Algeria', 'Africa', 66666666666, 77788, 666666),\n",
       " (3, 'Andorra', 'Europe', 78889999999, 8999, 44455),\n",
       " (4, 'Angola', 'Africa', 67968968066, 45676, 3334444555)]"
      ]
     },
     "execution_count": 95,
     "metadata": {},
     "output_type": "execute_result"
    }
   ],
   "source": [
    "%%sql\n",
    "SELECT* FROM wor"
   ]
  },
  {
   "cell_type": "markdown",
   "id": "89ed796f",
   "metadata": {},
   "source": [
    "# ABS\n",
    "ABS returns the absolute value. The output is positive even if the input is negative:\n",
    "\n",
    "ABS(x) = x if x>=0\n",
    " ABS(x) = -x if x<0\n",
    " ABS can be useful for testing values that are \"close\". "
   ]
  },
  {
   "cell_type": "code",
   "execution_count": 106,
   "id": "2251e809",
   "metadata": {},
   "outputs": [
    {
     "name": "stdout",
     "output_type": "stream",
     "text": [
      " * sqlite:///demo.db\n",
      "Done.\n"
     ]
    },
    {
     "data": {
      "text/html": [
       "<table>\n",
       "    <thead>\n",
       "        <tr>\n",
       "            <th>name</th>\n",
       "            <th>area</th>\n",
       "        </tr>\n",
       "    </thead>\n",
       "    <tbody>\n",
       "        <tr>\n",
       "            <td>Albania</td>\n",
       "            <td>3333334</td>\n",
       "        </tr>\n",
       "        <tr>\n",
       "            <td>Algeria</td>\n",
       "            <td>66666666666</td>\n",
       "        </tr>\n",
       "        <tr>\n",
       "            <td>Andorra</td>\n",
       "            <td>78889999999</td>\n",
       "        </tr>\n",
       "        <tr>\n",
       "            <td>Angola</td>\n",
       "            <td>67968968066</td>\n",
       "        </tr>\n",
       "    </tbody>\n",
       "</table>"
      ],
      "text/plain": [
       "[('Albania', 3333334),\n",
       " ('Algeria', 66666666666),\n",
       " ('Andorra', 78889999999),\n",
       " ('Angola', 67968968066)]"
      ]
     },
     "execution_count": 106,
     "metadata": {},
     "output_type": "execute_result"
    }
   ],
   "source": [
    "%%sql\n",
    "SELECT name, area FROM wor\n",
    " WHERE ABS(area-223000)>344"
   ]
  },
  {
   "cell_type": "code",
   "execution_count": null,
   "id": "9c2c9e48",
   "metadata": {},
   "outputs": [],
   "source": []
  },
  {
   "cell_type": "code",
   "execution_count": null,
   "id": "9a29b483",
   "metadata": {},
   "outputs": [],
   "source": []
  },
  {
   "cell_type": "code",
   "execution_count": null,
   "id": "25ed30a4",
   "metadata": {},
   "outputs": [],
   "source": []
  },
  {
   "cell_type": "code",
   "execution_count": null,
   "id": "dfbdbbd2",
   "metadata": {},
   "outputs": [],
   "source": []
  },
  {
   "cell_type": "code",
   "execution_count": null,
   "id": "1eb341df",
   "metadata": {},
   "outputs": [],
   "source": []
  },
  {
   "cell_type": "code",
   "execution_count": null,
   "id": "b7622879",
   "metadata": {},
   "outputs": [],
   "source": [
    "#pip install mysql-connector-python--done"
   ]
  },
  {
   "cell_type": "markdown",
   "id": "4946e590",
   "metadata": {},
   "source": [
    "conn = ps.connect(\n",
    "    host=os.environ[\"db_host\"],\n",
    "    port=os.environ[\"db_port\"],\n",
    "    dbname=os.environ[\"db_name\"],\n",
    "    user=os.environ[\"db_user\"],\n",
    "    password=os.environ[\"db_password\"])"
   ]
  },
  {
   "cell_type": "markdown",
   "id": "44c339cb",
   "metadata": {},
   "source": [
    "Structured Query Language or SQL is a standard database language that is used to create, maintain, destroy, update, and retrieve data from relational databases like MySQL, Oracle, SQL Server, PostgreSQL, etc"
   ]
  },
  {
   "cell_type": "code",
   "execution_count": null,
   "id": "6a6b9779",
   "metadata": {},
   "outputs": [],
   "source": []
  },
  {
   "cell_type": "code",
   "execution_count": null,
   "id": "75456d1d",
   "metadata": {},
   "outputs": [],
   "source": []
  },
  {
   "cell_type": "code",
   "execution_count": null,
   "id": "7f319921",
   "metadata": {},
   "outputs": [],
   "source": []
  },
  {
   "cell_type": "code",
   "execution_count": null,
   "id": "b8a608c6",
   "metadata": {},
   "outputs": [],
   "source": []
  },
  {
   "cell_type": "code",
   "execution_count": null,
   "id": "a22aaeac",
   "metadata": {},
   "outputs": [],
   "source": []
  },
  {
   "cell_type": "code",
   "execution_count": null,
   "id": "4f9001d6",
   "metadata": {},
   "outputs": [],
   "source": []
  },
  {
   "cell_type": "code",
   "execution_count": null,
   "id": "75f5fb10",
   "metadata": {},
   "outputs": [],
   "source": []
  },
  {
   "cell_type": "code",
   "execution_count": null,
   "id": "6365dd93",
   "metadata": {},
   "outputs": [],
   "source": []
  },
  {
   "cell_type": "code",
   "execution_count": null,
   "id": "6b7efa07",
   "metadata": {},
   "outputs": [],
   "source": []
  },
  {
   "cell_type": "raw",
   "id": "7e0cb7e5",
   "metadata": {},
   "source": [
    "#Creating Database:\n",
    "       1.CREATE DATABASE ---dbname--; SHOW DATABASES;\n",
    "\n",
    "#Creating Tables and adding data:\n",
    "       2. CREATE TABLE --NAME--(\n",
    "        -\n",
    "        -\n",
    "        -\n",
    "        );\n",
    "        #Adding data\n",
    "        INSERT INTO NAME(Columns name) VALUES(each column value);     for first row........\n",
    "        2nd\n",
    "        3rd\n",
    "        \n",
    "        #Initiate\n",
    "        SELECT *FROM NAME;\n",
    "        GO\n",
    "\n",
    "SELECT Clause: Retrieve or fetch data from a database.\n",
    "\n",
    "FROM Clause: From which table in the database do you have to select data?\n",
    "\n",
    "WHERE Clause: It forms the condition based on which data have to be queried.\n",
    "\n",
    "DELETE Statement: For deletion tasks.\n",
    "\n",
    "INSERT INTO: For insertion tasks.\n",
    "\n",
    "AND and OR operator: Selecting data based on AND or operator.\n",
    "\n",
    "Drop and Truncate: It will drop or truncate the collection as per the condition.\n",
    "\n",
    "NOT Operator: It will select the data which is not based on the given condition."
   ]
  },
  {
   "cell_type": "markdown",
   "id": "0f7042d1",
   "metadata": {},
   "source": [
    "Day 7 to Day 12\n",
    "From Day 7 to Day 12, you'll take a step forward and learn some advanced concepts like nested queries, wildcard operators, and other clauses.\n",
    "\n",
    "WITH Clause:  Understand the concept of With clause and use it to name the subquery block.\n",
    "FETCH clause:  The filtered data is retrieved based on certain conditions, such as only the top three rows.\n",
    "Arithmetic operators:  Use arithmetic operators to filter the data conveniently and precisely.\n",
    "Wildcard operators:  To intelligently select exact data such as names that start or end with T.\n",
    "UPDATE statement:   Update specific data entries based on the provided condition.\n",
    "ALTER table:  Add, delete or alter the table based on the specified condition.\n",
    "LIKE clause:  It follows the pattern specified in the search condition.\n",
    "BETWEEN and IN operator:   It selects the data range  between  or  in  the specified condition.\n",
    "CASE statement:  Conditions are searched for and the data is queried according to the respective case.\n",
    "EXISTS:  The nested query is created to filter out the data that exists in another query.\n",
    "    \n",
    "Day 13 to Day 18\n",
    "From day 13 to day 18 you will mainly learn the aggregate functions in SQL.\n",
    "\n",
    "DISTINCT clause:  Only the different data is selected, not repeating data.\n",
    "Count function:  Returns the total number of filtered data.\n",
    "Sum function:  Returns the sum of all queried data.\n",
    "Average function:  Returns the average of all queried data.\n",
    "Minimal function:  It returns the minimum data of all queried data.\n",
    "Maximum function:  It returns the maximum data of all queried data.\n",
    "ORDER BY:  This statement arranges the queried data in ascending or descending order according to your wishes.\n",
    "GROUP BY:  This statement groups all your queried data with the column specified in the condition.\n",
    "ALL and ANY clause:  They are logical operators in SQL and return Boolean values ​​as a result.\n",
    "TOP clause:  Used to retrieve the limited number of rows from a database.\n",
    "    \n",
    "Day 19 to Day 24\n",
    "From day 19 to day 24, you will learn and practice joins in SQL. It is one of the most important concepts of SQL. \n",
    "\n",
    "Union Clause : Just like the mathematical union operator, this clause performs the union of the specified tables.\n",
    "Intersection clause:  It connects the two or more tables where they intersect.\n",
    "Aliases : An alias is assigned to the table which we can refer to later.\n",
    "Cartesian Join and Self Join:  To query some data, sometimes we need to join the table itself with itself.\n",
    "Inner, left, right and full join:  These four types of joins come into play when we need to join one table to another. Check out their syntax and learn how to handle these joins.\n",
    "Division Clause:  Division is usually required when you want to find entities that interact with all entities of a set of different entity types.\n",
    "Using clause:  When multiple columns have the same names but the data types do not match, the NATURAL JOIN clause can be modified with the USING clause to specify the columns to use for an EQUIJOIN.\n",
    "Combining Values:  Combining aggregated and non-aggregated values ​​in SQL using the Joins and  Over  clause.\n",
    "MINUS operator:  It is used as “except”, which means it joins the two overlapping tables and minus one table so that only the overlap and the other table are covered.\n",
    "Joining 3 or more tables:  Although very rarely used, this will help you learn and understand how to join 3 or more tables and then perform the query operations.\n",
    "\n",
    "Day 25 to Day 30\n",
    "Others:  As we have covered almost all the topics, now let us come to some of the different topics, concepts and functions. These are important parts of DBMS and SQL and will surely help you in your college exams and competitive exams like GATE CS. "
   ]
  },
  {
   "cell_type": "code",
   "execution_count": null,
   "id": "13acb7d4",
   "metadata": {},
   "outputs": [],
   "source": []
  }
 ],
 "metadata": {
  "kernelspec": {
   "display_name": "Python 3 (ipykernel)",
   "language": "python",
   "name": "python3"
  },
  "language_info": {
   "codemirror_mode": {
    "name": "ipython",
    "version": 3
   },
   "file_extension": ".py",
   "mimetype": "text/x-python",
   "name": "python",
   "nbconvert_exporter": "python",
   "pygments_lexer": "ipython3",
   "version": "3.9.13"
  }
 },
 "nbformat": 4,
 "nbformat_minor": 5
}
