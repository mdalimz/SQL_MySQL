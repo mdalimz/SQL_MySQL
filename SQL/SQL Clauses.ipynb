{
 "cells": [
  {
   "cell_type": "markdown",
   "id": "aa72aa52",
   "metadata": {},
   "source": [
    "# What is SQL?\n",
    "SQL stands for Structured Query Language.SQL lets you access and manipulate databases"
   ]
  },
  {
   "cell_type": "markdown",
   "id": "7d981677",
   "metadata": {},
   "source": [
    "# Introducing the world table of countries"
   ]
  },
  {
   "cell_type": "raw",
   "id": "57a6e87b",
   "metadata": {},
   "source": [
    "\n",
    "                    # world\n",
    "name\tcontinent\tarea\tpopulation\tgdp\n",
    "Afghanistan\tAsia\t652230\t25500100\t20343000000\n",
    "Albania\tEurope\t28748\t2831741\t12960000000\n",
    "Algeria\tAfrica\t2381741\t37100000\t188681000000\n",
    "Andorra\tEurope\t468\t78115\t3712000000\n",
    "Angola\tAfrica\t1246700\t20609294\t100990000000\n",
    "....\n"
   ]
  },
  {
   "cell_type": "markdown",
   "id": "ab4c6301",
   "metadata": {},
   "source": [
    "### SELECT Basics\n",
    "\n",
    "- 1.1 (Select----Where)\\\n",
    "The example uses a WHERE clause to show the population of 'France'. Note that strings should be in 'single quotes';\n",
    "Modify it to show the population of Germany\n",
    "\n",
    "                SELECT population FROM world\\\n",
    "                      WHERE name = 'Germany'\n",
    "- 1.2 (IN)\\\n",
    "Checking a list The word IN allows us to check if an item is in a list. The example shows the name and population for the countries 'Brazil', 'Russia', 'India' and 'China'.Show the name and the population for 'Sweden', 'Norway' and 'Denmark'.\\\n",
    "\n",
    "                SELECT name, population FROM world\\\n",
    "                  WHERE name IN ('Sweden', 'Norway', 'Denmark');\n",
    "\n",
    "- 1.2 (BETWEEN)\\\\\n",
    "\n",
    " Which countries are not too small and not too big? BETWEEN allows range checking (range specified is inclusive of boundary values). The example below shows countries with an area of 250,000-300,000 sq. km. Modify it to show the country and the area for countries with an area between 200,000 and 250,000.\n",
    "\n",
    "                     SELECT name, area FROM world\n",
    "                        WHERE area BETWEEN 200000 AND 250000\n"
   ]
  },
  {
   "cell_type": "markdown",
   "id": "51cd2c08",
   "metadata": {},
   "source": [
    "### SELECT from WORLD Tutorial\n",
    "\n",
    "- 2.1\tIntroduction/  SELECT-------  FROM\\\n",
    "To show the name, continent and population of all countries.\n",
    "           \n",
    "                 SELECT name, continent, population FROM world\n",
    "              \n",
    "- 2.2 Large Countries/ How to use WHERE to filter records.\\\n",
    "Show the name for the countries that have a population of at least 200 million. 200 million is 200000000, there are eight zeros.\n",
    "\n",
    "               SELECT name FROM world\n",
    "                  WHERE population = 200000000\n",
    "\n",
    "\n",
    "- 2.3 Per capita GDP\\\n",
    "Give the name and the per capita GDP for those countries with a population of at least 200 million.HELP:How to calculate per capita GDP,per capita GDP is the GDP divided by the population GDP/population\\\n",
    "--------------------------------------\n",
    "            SELECT name, gdp/population FROM world\n",
    "             WHERE population > 200000000\n",
    "             \n",
    "- 2.4. Show the name and population in millions for the countries of the continent 'South America'---------------------WHERE\n",
    "-------------------\n",
    "\n",
    "                SELECT name, population/1000000 FROM world\n",
    "                       WHERE continent=\"South America\"; \n",
    "   \n",
    "- 2.5\n",
    " Show the name and population for France, Germany, Italy---------------------IN\n",
    "-------------------------\n",
    "\n",
    "                     SELECT name, population\n",
    "                            FROM world\n",
    "                      WHERE name IN(\"France\", \"Germany\", \"Italy\")\n",
    "\n",
    "- 2.6. Show the countries which have a name that includes the word 'United'--------LIKE\" name%\"\n",
    "                                          SELECT name\n",
    "                                             FROM world\n",
    "                                    WHERE name LIKE\"United%\"\n",
    "\n",
    "6\tUnited\n",
    "\n",
    "\n",
    "\n",
    "\n",
    "7\tTwo ways to be big\n",
    "\n",
    "\n",
    "\n",
    "\n",
    "8\tOne or the other (but not both)\n",
    "9\tRounding\n",
    "10\tTrillion dollar economies\n",
    "11\tName and capital have the same length\n",
    "12\tMatching name and capital\n",
    "13\tAll the vowels\n"
   ]
  },
  {
   "cell_type": "code",
   "execution_count": null,
   "id": "8b5394f9",
   "metadata": {},
   "outputs": [],
   "source": []
  }
 ],
 "metadata": {
  "kernelspec": {
   "display_name": "Python 3 (ipykernel)",
   "language": "python",
   "name": "python3"
  },
  "language_info": {
   "codemirror_mode": {
    "name": "ipython",
    "version": 3
   },
   "file_extension": ".py",
   "mimetype": "text/x-python",
   "name": "python",
   "nbconvert_exporter": "python",
   "pygments_lexer": "ipython3",
   "version": "3.9.13"
  }
 },
 "nbformat": 4,
 "nbformat_minor": 5
}
