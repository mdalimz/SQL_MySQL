{
 "cells": [
  {
   "cell_type": "code",
   "execution_count": 13,
   "id": "db1c936b",
   "metadata": {},
   "outputs": [
    {
     "name": "stdout",
     "output_type": "stream",
     "text": [
      "The sql extension is already loaded. To reload it, use:\n",
      "  %reload_ext sql\n"
     ]
    }
   ],
   "source": [
    "load_ext sql"
   ]
  },
  {
   "cell_type": "code",
   "execution_count": 17,
   "id": "9c289be3",
   "metadata": {},
   "outputs": [
    {
     "name": "stdout",
     "output_type": "stream",
     "text": [
      "(sqlite3.OperationalError) table languages already exists\n",
      "[SQL: CREATE TABLE languages (name, rating, change);]\n",
      "(Background on this error at: https://sqlalche.me/e/20/e3q8)\n"
     ]
    }
   ],
   "source": [
    "%%sql sqlite://\n",
    "CREATE TABLE languages (name, rating, change);\n",
    "INSERT INTO languages VALUES ('Python', 14.44, 2.48);\n",
    "INSERT INTO languages VALUES ('C', 13.13, 1.50);\n",
    "INSERT INTO languages VALUES ('Java', 11.59, 0.40);\n",
    "INSERT INTO languages VALUES ('C++', 10.00, 1.98);"
   ]
  },
  {
   "cell_type": "code",
   "execution_count": 18,
   "id": "71c232a9",
   "metadata": {},
   "outputs": [
    {
     "name": "stdout",
     "output_type": "stream",
     "text": [
      " * sqlite:///example.db\n",
      "Done.\n"
     ]
    },
    {
     "data": {
      "text/html": [
       "<table>\n",
       "    <thead>\n",
       "        <tr>\n",
       "            <th>name</th>\n",
       "            <th>rating</th>\n",
       "            <th>change</th>\n",
       "        </tr>\n",
       "    </thead>\n",
       "    <tbody>\n",
       "        <tr>\n",
       "            <td>Python</td>\n",
       "            <td>14.44</td>\n",
       "            <td>2.48</td>\n",
       "        </tr>\n",
       "        <tr>\n",
       "            <td>C</td>\n",
       "            <td>13.13</td>\n",
       "            <td>1.5</td>\n",
       "        </tr>\n",
       "        <tr>\n",
       "            <td>Java</td>\n",
       "            <td>11.59</td>\n",
       "            <td>0.4</td>\n",
       "        </tr>\n",
       "        <tr>\n",
       "            <td>C++</td>\n",
       "            <td>10.0</td>\n",
       "            <td>1.98</td>\n",
       "        </tr>\n",
       "    </tbody>\n",
       "</table>"
      ],
      "text/plain": [
       "[('Python', 14.44, 2.48),\n",
       " ('C', 13.13, 1.5),\n",
       " ('Java', 11.59, 0.4),\n",
       " ('C++', 10.0, 1.98)]"
      ]
     },
     "execution_count": 18,
     "metadata": {},
     "output_type": "execute_result"
    }
   ],
   "source": [
    "%sql SELECT * FROM languages"
   ]
  },
  {
   "cell_type": "code",
   "execution_count": 19,
   "id": "cc30bf87",
   "metadata": {},
   "outputs": [
    {
     "name": "stdout",
     "output_type": "stream",
     "text": [
      " * sqlite:///example.db\n",
      "Done.\n"
     ]
    }
   ],
   "source": [
    "result = %sql SELECT * FROM languages WHERE rating > 10"
   ]
  },
  {
   "cell_type": "code",
   "execution_count": null,
   "id": "bcf4a830",
   "metadata": {},
   "outputs": [],
   "source": []
  }
 ],
 "metadata": {
  "kernelspec": {
   "display_name": "Python 3 (ipykernel)",
   "language": "python",
   "name": "python3"
  },
  "language_info": {
   "codemirror_mode": {
    "name": "ipython",
    "version": 3
   },
   "file_extension": ".py",
   "mimetype": "text/x-python",
   "name": "python",
   "nbconvert_exporter": "python",
   "pygments_lexer": "ipython3",
   "version": "3.9.13"
  }
 },
 "nbformat": 4,
 "nbformat_minor": 5
}
